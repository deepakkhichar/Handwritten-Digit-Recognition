{
 "cells": [
  {
   "cell_type": "code",
   "execution_count": 1,
   "metadata": {
    "id": "0_k4vQ07jIl-"
   },
   "outputs": [],
   "source": [
    "import torch\n",
    "import torchvision\n",
    "from torchvision import transforms, datasets\n"
   ]
  },
  {
   "cell_type": "code",
   "execution_count": 2,
   "metadata": {
    "id": "2r9oSJtFNbJA"
   },
   "outputs": [],
   "source": [
    " input_size = 28*28 \n",
    " hidden_layer_1_size = 500\n",
    " hidden_layer_2_size = 500 \n",
    " output_size = 10\n",
    " epochs = 250\n",
    " batch_size = 64\n",
    " learning_rate = 0.01 "
   ]
  },
  {
   "cell_type": "code",
   "execution_count": 3,
   "metadata": {
    "colab": {
     "base_uri": "https://localhost:8080/"
    },
    "id": "NuQlWzCaMuXI",
    "outputId": "1ec80280-df9f-483c-8cb6-3a0b9831b331"
   },
   "outputs": [
    {
     "name": "stderr",
     "output_type": "stream",
     "text": [
      "/usr/local/lib/python3.7/dist-packages/torchvision/datasets/mnist.py:498: UserWarning: The given NumPy array is not writeable, and PyTorch does not support non-writeable tensors. This means you can write to the underlying (supposedly non-writeable) NumPy array using the tensor. You may want to copy the array to protect its data or make it writeable before converting it to a tensor. This type of warning will be suppressed for the rest of this program. (Triggered internally at  /pytorch/torch/csrc/utils/tensor_numpy.cpp:180.)\n",
      "  return torch.from_numpy(parsed.astype(m[2], copy=False)).view(*s)\n"
     ]
    }
   ],
   "source": [
    "#Extracting MNIST data and Normalising it\n",
    "transform = transforms.Compose([transforms.ToTensor(),transforms.Normalize((0.5,), (0.5,))])\n",
    "\n",
    "training = datasets.MNIST(\"\", train=True, download = True,transform= transform)\n",
    "testing =  datasets.MNIST(\"\", train=False, download = True,transform= transform)"
   ]
  },
  {
   "cell_type": "code",
   "execution_count": 4,
   "metadata": {
    "colab": {
     "base_uri": "https://localhost:8080/"
    },
    "id": "HwwLHpjze2vD",
    "outputId": "059933ac-30fd-4701-9d3e-d2d696cd56fb"
   },
   "outputs": [
    {
     "name": "stdout",
     "output_type": "stream",
     "text": [
      "Number of images in Training set:  50000\n",
      "Number of images in Validation set:  10000\n",
      "Number of images in Testing set:  10000\n"
     ]
    }
   ],
   "source": [
    "#training_set, validation_set and testing_set\n",
    "train, val = torch.utils.data.random_split(training, [50000, 10000])\n",
    "print(\"Number of images in Training set: \",len(train))\n",
    "print(\"Number of images in Validation set: \",len(val))\n",
    "print(\"Number of images in Testing set: \",len(testing))\n"
   ]
  },
  {
   "cell_type": "code",
   "execution_count": 5,
   "metadata": {
    "id": "wi9JEKvFRKhh"
   },
   "outputs": [],
   "source": [
    "train_set = torch.utils.data.DataLoader(train, batch_size=batch_size, shuffle=True)\n",
    "validation_set = torch.utils.data.DataLoader(val, batch_size=batch_size, shuffle=False)\n",
    "test_set = torch.utils.data.DataLoader(testing, batch_size=batch_size, shuffle=False)"
   ]
  },
  {
   "cell_type": "code",
   "execution_count": 6,
   "metadata": {
    "id": "BnYxr_dmRpSV"
   },
   "outputs": [],
   "source": [
    "#Neural Network\n",
    "import torch.nn as nn\n",
    "model = nn.Sequential(nn.Linear(input_size, hidden_layer_1_size), \n",
    "                      nn.ReLU(),\n",
    "                      nn.Linear(hidden_layer_1_size, hidden_layer_2_size),\n",
    "                      nn.ReLU(),\n",
    "                      nn.Linear(hidden_layer_2_size, output_size),\n",
    "                      nn.LogSoftmax(dim=1))\n"
   ]
  },
  {
   "cell_type": "code",
   "execution_count": 7,
   "metadata": {
    "id": "tJshzeKrR3Gm"
   },
   "outputs": [],
   "source": [
    "import torch.optim as optim\n",
    "optimizer = optim.SGD(model.parameters(), lr=learning_rate) \n",
    "\n",
    "criterion=nn.CrossEntropyLoss()"
   ]
  },
  {
   "cell_type": "code",
   "execution_count": 8,
   "metadata": {
    "id": "zhCcT4klplJ2"
   },
   "outputs": [],
   "source": [
    "import numpy as np\n",
    "# trainingloss=np.zeros(epochs)\n",
    "# trainingaccuracy=np.zeros(epochs)\n",
    "# validationloss=np.zeros(epochs)\n",
    "# validationaccuracy=np.zeros(epochs)\n",
    "\n",
    "# x_axis=np.zeros(epochs)\n",
    "\n",
    "# for epoch in range(epochs):\n",
    "#   ####################\n",
    "#   ### Train Loop #####\n",
    "#   ####################\n",
    "  \n",
    "#   model.train()\n",
    "#   train_loss=0\n",
    "#   for data in train_set:\n",
    "#     X,Y=data\n",
    "#     X=X.view(-1,28*28)\n",
    "#     optimizer.zero_grad()\n",
    "#     outputs=model(X)\n",
    "#     loss=criterion(outputs,Y)\n",
    "#     loss.backward()\n",
    "#     optimizer.step()\n",
    "#     train_loss += loss.item()\n",
    "#   trainingloss[epoch]=train_loss/len(train_set)\n",
    "\n",
    "#   #########################\n",
    "#   ### Validation Loop #####\n",
    "#   #########################\n",
    "#   model.eval()\n",
    "#   valid_loss = 0\n",
    "#   for data in validation_set:\n",
    "#     X,Y=data\n",
    "#     X=X.view(-1,28*28)\n",
    "#     outputs=model(X)\n",
    "#     loss = criterion(outputs,Y)\n",
    "#     valid_loss += loss.item()\n",
    "#   validationloss[epoch]=valid_loss/len(validation_set)\n",
    "\n",
    "#   #validation accuracy\n",
    "#   correct = 0\n",
    "#   total = 0\n",
    "#   for data in validation_set:\n",
    "#     X, Y = data\n",
    "#     X=X.view(-1,28*28)\n",
    "#     output = model(X)\n",
    "#     _,predicted=torch.max(output.data, 1)\n",
    "#     total += Y.size(0)\n",
    "#     correct += (predicted == Y).sum()\n",
    "#   vaccuracy = 100 * correct / total\n",
    "#   validationaccuracy[epoch]=vaccuracy.item()\n",
    "\n",
    "#   # Training Accuracy\n",
    "#   correct = 0\n",
    "#   total = 0\n",
    "#   for data in train_set:\n",
    "#     X, Y = data\n",
    "#     X=X.view(-1,28*28)\n",
    "#     output = model(X)\n",
    "#     _,predicted=torch.max(output.data, 1)\n",
    "#     total += Y.size(0)\n",
    "#     correct += (predicted == Y).sum()\n",
    "#   taccuracy = 100 * correct / total\n",
    "#   trainingaccuracy[epoch]=taccuracy.item()\n",
    "\n",
    "#   x_axis[epoch]=epoch+1\n",
    "\n",
    "#   print(\"Epoch:\",epoch+1,\"  Trainloss: \",trainingloss[epoch],\"  TrainAccuracy: \",trainingaccuracy[epoch],\"  ValidationLoss: \",validationloss[epoch],\"  ValidationAccuracy: \",validationaccuracy[epoch])\n"
   ]
  },
  {
   "cell_type": "code",
   "execution_count": 9,
   "metadata": {
    "id": "yPB5osgdM2rX"
   },
   "outputs": [],
   "source": [
    "# # Ploting the error and classification accuracy on both training and validation data over the epochs\n",
    "# import matplotlib.pyplot as plt\n",
    "# plt.figure()\n",
    "# plt.title(\" Training Error  Vs Number of Epochs\")\n",
    "# plt.ylabel(\"Training Error\")\n",
    "# plt.xlabel(\"Number of Epochs\")\n",
    "# plt.plot(x_axis,trainingloss)\n",
    "\n",
    "# plt.figure()\n",
    "# plt.title(\" Training Accuracy  Vs Number of Epochs\")\n",
    "# plt.ylabel(\"Training Accuracy\")\n",
    "# plt.xlabel(\"Number of Epochs\")\n",
    "# plt.plot(x_axis,trainingaccuracy)\n",
    "\n",
    "# plt.figure()\n",
    "# plt.title(\" Validation Error  Vs Number of Epochs\")\n",
    "# plt.ylabel(\"Validation Error\")\n",
    "# plt.xlabel(\"Number of Epochs\")\n",
    "# plt.plot(x_axis,validationloss)\n",
    "\n",
    "# plt.figure()\n",
    "# plt.title(\" Validation Accuracy  Vs Number of Epochs\")\n",
    "# plt.ylabel(\"Validation Accuracy\")\n",
    "# plt.xlabel(\"Number of Epochs\")\n",
    "# plt.plot(x_axis,validationaccuracy)\n",
    "\n"
   ]
  },
  {
   "cell_type": "code",
   "execution_count": 10,
   "metadata": {
    "id": "yweLnSgPQSjd"
   },
   "outputs": [],
   "source": [
    "# # Training Accuracy\n",
    "# correct = 0\n",
    "# total = 0\n",
    "# with torch.no_grad():\n",
    "#   for data in train_set:\n",
    "#     X, Y = data\n",
    "#     X=X.view(-1,28*28)\n",
    "#     output = model(X)\n",
    "#     _,predicted=torch.max(output.data, 1)\n",
    "#     total += Y.size(0)\n",
    "#     correct += (predicted == Y).sum()\n",
    "# training_accuracy = 100 * correct / total\n",
    "\n",
    "\n",
    "# # Testing Accuracy\n",
    "# correct = 0\n",
    "# total = 0\n",
    "# with torch.no_grad():\n",
    "#   for data in test_set:\n",
    "#     X, Y = data\n",
    "#     X=X.view(-1,28*28)\n",
    "#     output = model(X)\n",
    "#     _,predicted=torch.max(output.data, 1)\n",
    "#     total += Y.size(0)\n",
    "#     correct += (predicted == Y).sum()\n",
    "\n",
    "# testing_accuracy = 100 * correct / total\n",
    "\n",
    "# print(\"Training Accuracy: \",training_accuracy.item())\n",
    "# print(\"Testing Accuracy: \",testing_accuracy.item())"
   ]
  },
  {
   "cell_type": "markdown",
   "metadata": {
    "id": "rawm6rrFCJvO"
   },
   "source": [
    "## L2 Regularization "
   ]
  },
  {
   "cell_type": "code",
   "execution_count": 11,
   "metadata": {
    "id": "3ujU-VHICNYI"
   },
   "outputs": [],
   "source": [
    "\n",
    "# weight_decay=0.01\n",
    "\n",
    "# lmodel = nn.Sequential(nn.Linear(input_size, hidden_layer_1_size), \n",
    "#                       nn.ReLU(),\n",
    "#                       nn.Linear(hidden_layer_1_size, hidden_layer_2_size),\n",
    "#                       nn.ReLU(),\n",
    "#                       nn.Linear(hidden_layer_2_size, output_size),\n",
    "#                       nn.LogSoftmax(dim=1))\n",
    "# loptimizer = optim.SGD(lmodel.parameters(), lr=learning_rate, weight_decay=weight_decay)\n",
    "\n",
    "# ltrainingloss=np.zeros(epochs)\n",
    "# ltrainingaccuracy=np.zeros(epochs)\n",
    "# lvalidationloss=np.zeros(epochs)\n",
    "# lvalidationaccuracy=np.zeros(epochs)\n",
    "\n",
    "# for epoch in range(epochs):\n",
    "#   ####################\n",
    "#   ### Train Loop #####\n",
    "#   ####################\n",
    "  \n",
    "#   lmodel.train()\n",
    "#   ltrain_loss=0\n",
    "#   for data in train_set:\n",
    "#     X,Y=data\n",
    "#     X=X.view(-1,28*28)\n",
    "#     loptimizer.zero_grad()\n",
    "#     loutputs=lmodel(X)\n",
    "#     lloss=criterion(loutputs,Y)\n",
    "#     lloss.backward()\n",
    "#     loptimizer.step()\n",
    "#     ltrain_loss += lloss.item()\n",
    "#   ltrainingloss[epoch]=ltrain_loss/len(train_set)\n",
    "\n",
    "#   #########################\n",
    "#   ### Validation Loop #####\n",
    "#   #########################\n",
    "#   lmodel.eval()\n",
    "#   lvalid_loss = 0\n",
    "#   for data in validation_set:\n",
    "#     X,Y=data\n",
    "#     X=X.view(-1,28*28)\n",
    "#     loutputs=lmodel(X)\n",
    "#     lloss = criterion(loutputs,Y)\n",
    "#     lvalid_loss += lloss.item()\n",
    "#   lvalidationloss[epoch]=lvalid_loss/len(validation_set)\n",
    "\n",
    "#   #validation accuracy\n",
    "#   lcorrect = 0\n",
    "#   ltotal = 0\n",
    "#   for data in validation_set:\n",
    "#     X, Y = data\n",
    "#     X=X.view(-1,28*28)\n",
    "#     loutput = lmodel(X)\n",
    "#     _,lpredicted=torch.max(loutput.data, 1)\n",
    "#     ltotal += Y.size(0)\n",
    "#     lcorrect += (lpredicted == Y).sum()\n",
    "#   laccuracy = 100 * lcorrect / ltotal\n",
    "#   lvalidationaccuracy[epoch]=laccuracy.item()\n",
    "\n",
    "#   # Training Accuracy\n",
    "#   lcorrect = 0\n",
    "#   ltotal = 0\n",
    "#   for data in train_set:\n",
    "#     X, Y = data\n",
    "#     X=X.view(-1,28*28)\n",
    "#     loutput = lmodel(X)\n",
    "#     _,lpredicted=torch.max(loutput.data, 1)\n",
    "#     ltotal += Y.size(0)\n",
    "#     lcorrect += (lpredicted == Y).sum()\n",
    "#   ltaccuracy = 100 * lcorrect / ltotal\n",
    "#   ltrainingaccuracy[epoch]=ltaccuracy.item()\n",
    "\n",
    "#   print(\"Epoch:\",epoch+1,\"  Trainloss: \",ltrainingloss[epoch],\"  TrainAccuracy: \",ltrainingaccuracy[epoch],\"  ValidationLoss: \",lvalidationloss[epoch],\"  ValidationAccuracy: \",lvalidationaccuracy[epoch])\n"
   ]
  },
  {
   "cell_type": "code",
   "execution_count": 12,
   "metadata": {
    "id": "QfhugxngJGU2"
   },
   "outputs": [],
   "source": [
    "# # Ploting the error and classification accuracy on both training and validation data over the epochs\n",
    "# import matplotlib.pyplot as plt\n",
    "# plt.figure()\n",
    "# plt.title(\" Training Error  Vs Number of Epochs\")\n",
    "# plt.ylabel(\"Training Error\")\n",
    "# plt.xlabel(\"Number of Epochs\")\n",
    "# plt.plot(x_axis,ltrainingloss)\n",
    "\n",
    "# plt.figure()\n",
    "# plt.title(\" Training Accuracy  Vs Number of Epochs\")\n",
    "# plt.ylabel(\"Training Accuracy\")\n",
    "# plt.xlabel(\"Number of Epochs\")\n",
    "# plt.plot(x_axis,ltrainingaccuracy)\n",
    "\n",
    "# plt.figure()\n",
    "# plt.title(\" Validation Error  Vs Number of Epochs\")\n",
    "# plt.ylabel(\"Validation Error\")\n",
    "# plt.xlabel(\"Number of Epochs\")\n",
    "# plt.plot(x_axis,lvalidationloss)\n",
    "\n",
    "# plt.figure()\n",
    "# plt.title(\" Validation Accuracy  Vs Number of Epochs\")\n",
    "# plt.ylabel(\"Validation Accuracy\")\n",
    "# plt.xlabel(\"Number of Epochs\")\n",
    "# plt.plot(x_axis,lvalidationaccuracy)\n"
   ]
  },
  {
   "cell_type": "code",
   "execution_count": 13,
   "metadata": {
    "id": "Z7E1URf9agcF"
   },
   "outputs": [],
   "source": [
    "# # Training Accuracy\n",
    "# lcorrect = 0\n",
    "# ltotal = 0\n",
    "# with torch.no_grad():\n",
    "#   for data in train_set:\n",
    "#     X, Y = data\n",
    "#     X=X.view(-1,28*28)\n",
    "#     loutput = lmodel(X)\n",
    "#     _,lpredicted=torch.max(loutput.data, 1)\n",
    "#     ltotal += Y.size(0)\n",
    "#     lcorrect += (lpredicted == Y).sum()\n",
    "# ltraining_accuracy = 100 * lcorrect / ltotal\n",
    "\n",
    "\n",
    "# # Testing Accuracy\n",
    "# lcorrect = 0\n",
    "# ltotal = 0\n",
    "# with torch.no_grad():\n",
    "#   for data in test_set:\n",
    "#     X, Y = data\n",
    "#     X=X.view(-1,28*28)\n",
    "#     loutput = lmodel(X)\n",
    "#     _,lpredicted=torch.max(loutput.data, 1)\n",
    "#     ltotal += Y.size(0)\n",
    "#     lcorrect += (lpredicted == Y).sum()\n",
    "\n",
    "# ltesting_accuracy = 100 * lcorrect / ltotal\n",
    "\n",
    "# print(\"Training Accuracy: \",ltraining_accuracy.item())\n",
    "# print(\"Testing Accuracy: \",ltesting_accuracy.item())"
   ]
  },
  {
   "cell_type": "markdown",
   "metadata": {
    "id": "ZTANgHD8RSMX"
   },
   "source": [
    "## Dropout\n"
   ]
  },
  {
   "cell_type": "code",
   "execution_count": 14,
   "metadata": {
    "id": "pKAMqMrgRblB"
   },
   "outputs": [],
   "source": [
    "# dmodel = nn.Sequential(nn.Linear(input_size, hidden_layer_1_size), \n",
    "#                       nn.ReLU(),\n",
    "#                       nn.Dropout(p=0.5),\n",
    "#                       nn.Linear(hidden_layer_1_size, hidden_layer_2_size),\n",
    "#                       nn.ReLU(),\n",
    "#                       nn.Dropout(p=0.5),\n",
    "#                       nn.Linear(hidden_layer_2_size, output_size),\n",
    "#                       nn.LogSoftmax(dim=1))\n",
    "# doptimizer = optim.SGD(dmodel.parameters(), lr=learning_rate)\n",
    "\n",
    "# dtrainingloss=np.zeros(epochs)\n",
    "# dtrainingaccuracy=np.zeros(epochs)\n",
    "# dvalidationloss=np.zeros(epochs)\n",
    "# dvalidationaccuracy=np.zeros(epochs)\n",
    "\n",
    "# for epoch in range(epochs):\n",
    "#   ####################\n",
    "#   ### Train Loop #####\n",
    "#   ####################\n",
    "  \n",
    "#   dmodel.train()\n",
    "#   dtrain_loss=0\n",
    "#   for data in train_set:\n",
    "#     X,Y=data\n",
    "#     X=X.view(-1,28*28)\n",
    "#     doptimizer.zero_grad()\n",
    "#     doutputs=dmodel(X)\n",
    "#     dloss=criterion(doutputs,Y)\n",
    "#     dloss.backward()\n",
    "#     doptimizer.step()\n",
    "#     dtrain_loss += dloss.item()\n",
    "#   dtrainingloss[epoch]=dtrain_loss/len(train_set)\n",
    "\n",
    "#   #########################\n",
    "#   ### Validation Loop #####\n",
    "#   #########################\n",
    "#   dmodel.eval()\n",
    "#   dvalid_loss = 0\n",
    "#   for data in validation_set:\n",
    "#     X,Y=data\n",
    "#     X=X.view(-1,28*28)\n",
    "#     doutputs=dmodel(X)\n",
    "#     dloss = criterion(doutputs,Y)\n",
    "#     dvalid_loss += dloss.item()\n",
    "#   dvalidationloss[epoch]=dvalid_loss/len(validation_set)\n",
    "\n",
    "#   #validation accuracy\n",
    "#   dcorrect = 0\n",
    "#   dtotal = 0\n",
    "#   for data in validation_set:\n",
    "#     X, Y = data\n",
    "#     X=X.view(-1,28*28)\n",
    "#     doutput = dmodel(X)\n",
    "#     _,dpredicted=torch.max(doutput.data, 1)\n",
    "#     dtotal += Y.size(0)\n",
    "#     dcorrect += (dpredicted == Y).sum()\n",
    "#   daccuracy = 100 * dcorrect / dtotal\n",
    "#   dvalidationaccuracy[epoch]=daccuracy.item()\n",
    "\n",
    "#   # Training Accuracy\n",
    "#   dcorrect = 0\n",
    "#   dtotal = 0\n",
    "#   for data in train_set:\n",
    "#     X, Y = data\n",
    "#     X=X.view(-1,28*28)\n",
    "#     doutput = dmodel(X)\n",
    "#     _,dpredicted=torch.max(doutput.data, 1)\n",
    "#     dtotal += Y.size(0)\n",
    "#     dcorrect += (dpredicted == Y).sum()\n",
    "#   dtaccuracy = 100 * dcorrect / dtotal\n",
    "#   dtrainingaccuracy[epoch]=dtaccuracy.item()\n",
    "\n",
    "#   print(\"Epoch:\",epoch+1,\"  Trainloss: \",dtrainingloss[epoch],\"  TrainAccuracy: \",dtrainingaccuracy[epoch],\"  ValidationLoss: \",dvalidationloss[epoch],\"  ValidationAccuracy: \",dvalidationaccuracy[epoch])\n"
   ]
  },
  {
   "cell_type": "code",
   "execution_count": 15,
   "metadata": {
    "id": "ajyRasTwRcwk"
   },
   "outputs": [],
   "source": [
    "# # Ploting the error and classification accuracy on both training and validation data over the epochs\n",
    "# import matplotlib.pyplot as plt\n",
    "# plt.figure()\n",
    "# plt.title(\" Training Error  Vs Number of Epochs\")\n",
    "# plt.ylabel(\"Training Error\")\n",
    "# plt.xlabel(\"Number of Epochs\")\n",
    "# plt.plot(x_axis,dtrainingloss)\n",
    "\n",
    "# plt.figure()\n",
    "# plt.title(\" Training Accuracy  Vs Number of Epochs\")\n",
    "# plt.ylabel(\"Training Accuracy\")\n",
    "# plt.xlabel(\"Number of Epochs\")\n",
    "# plt.plot(x_axis,dtrainingaccuracy)\n",
    "\n",
    "# plt.figure()\n",
    "# plt.title(\" Validation Error  Vs Number of Epochs\")\n",
    "# plt.ylabel(\"Validation Error\")\n",
    "# plt.xlabel(\"Number of Epochs\")\n",
    "# plt.plot(x_axis,dvalidationloss)\n",
    "\n",
    "# plt.figure()\n",
    "# plt.title(\" Validation Accuracy  Vs Number of Epochs\")\n",
    "# plt.ylabel(\"Validation Accuracy\")\n",
    "# plt.xlabel(\"Number of Epochs\")\n",
    "# plt.plot(x_axis,dvalidationaccuracy)\n"
   ]
  },
  {
   "cell_type": "code",
   "execution_count": 16,
   "metadata": {
    "id": "QaYORPCleCMX"
   },
   "outputs": [],
   "source": [
    "# # Training Accuracy\n",
    "# dcorrect = 0\n",
    "# dtotal = 0\n",
    "# with torch.no_grad():\n",
    "#   for data in train_set:\n",
    "#     X, Y = data\n",
    "#     X=X.view(-1,28*28)\n",
    "#     doutput = dmodel(X)\n",
    "#     _,dpredicted=torch.max(doutput.data, 1)\n",
    "#     dtotal += Y.size(0)\n",
    "#     dcorrect += (dpredicted == Y).sum()\n",
    "# dtraining_accuracy = 100 * dcorrect / dtotal\n",
    "\n",
    "\n",
    "# # Testing Accuracy\n",
    "# dcorrect = 0\n",
    "# dtotal = 0\n",
    "# with torch.no_grad():\n",
    "#   for data in test_set:\n",
    "#     X, Y = data\n",
    "#     X=X.view(-1,28*28)\n",
    "#     doutput = dmodel(X)\n",
    "#     _,dpredicted=torch.max(doutput.data, 1)\n",
    "#     dtotal += Y.size(0)\n",
    "#     dcorrect += (dpredicted == Y).sum()\n",
    "\n",
    "# dtesting_accuracy = 100 * dcorrect / dtotal\n",
    "\n",
    "# print(\"Training Accuracy: \",dtraining_accuracy.item())\n",
    "# print(\"Testing Accuracy: \",dtesting_accuracy.item())"
   ]
  },
  {
   "cell_type": "markdown",
   "metadata": {
    "id": "JcllLVMDRdGl"
   },
   "source": [
    "## Early Stopping"
   ]
  },
  {
   "cell_type": "code",
   "execution_count": 20,
   "metadata": {
    "colab": {
     "base_uri": "https://localhost:8080/",
     "height": 388
    },
    "id": "yYdkFcD-RfAE",
    "outputId": "8b2bf8b4-24ee-498c-da7a-afea20a19480"
   },
   "outputs": [
    {
     "ename": "KeyboardInterrupt",
     "evalue": "ignored",
     "output_type": "error",
     "traceback": [
      "\u001b[0;31m---------------------------------------------------------------------------\u001b[0m",
      "\u001b[0;31mKeyboardInterrupt\u001b[0m                         Traceback (most recent call last)",
      "\u001b[0;32m<ipython-input-20-d04476fbe0dd>\u001b[0m in \u001b[0;36m<module>\u001b[0;34m()\u001b[0m\n\u001b[1;32m     22\u001b[0m   \u001b[0memodel\u001b[0m\u001b[0;34m.\u001b[0m\u001b[0mtrain\u001b[0m\u001b[0;34m(\u001b[0m\u001b[0;34m)\u001b[0m\u001b[0;34m\u001b[0m\u001b[0;34m\u001b[0m\u001b[0m\n\u001b[1;32m     23\u001b[0m   \u001b[0metrain_loss\u001b[0m\u001b[0;34m=\u001b[0m\u001b[0;36m0\u001b[0m\u001b[0;34m\u001b[0m\u001b[0;34m\u001b[0m\u001b[0m\n\u001b[0;32m---> 24\u001b[0;31m   \u001b[0;32mfor\u001b[0m \u001b[0mdata\u001b[0m \u001b[0;32min\u001b[0m \u001b[0mtrain_set\u001b[0m\u001b[0;34m:\u001b[0m\u001b[0;34m\u001b[0m\u001b[0;34m\u001b[0m\u001b[0m\n\u001b[0m\u001b[1;32m     25\u001b[0m     \u001b[0mX\u001b[0m\u001b[0;34m,\u001b[0m\u001b[0mY\u001b[0m\u001b[0;34m=\u001b[0m\u001b[0mdata\u001b[0m\u001b[0;34m\u001b[0m\u001b[0;34m\u001b[0m\u001b[0m\n\u001b[1;32m     26\u001b[0m     \u001b[0mX\u001b[0m\u001b[0;34m=\u001b[0m\u001b[0mX\u001b[0m\u001b[0;34m.\u001b[0m\u001b[0mview\u001b[0m\u001b[0;34m(\u001b[0m\u001b[0;34m-\u001b[0m\u001b[0;36m1\u001b[0m\u001b[0;34m,\u001b[0m\u001b[0;36m28\u001b[0m\u001b[0;34m*\u001b[0m\u001b[0;36m28\u001b[0m\u001b[0;34m)\u001b[0m\u001b[0;34m\u001b[0m\u001b[0;34m\u001b[0m\u001b[0m\n",
      "\u001b[0;32m/usr/local/lib/python3.7/dist-packages/torch/utils/data/dataloader.py\u001b[0m in \u001b[0;36m__next__\u001b[0;34m(self)\u001b[0m\n\u001b[1;32m    519\u001b[0m             \u001b[0;32mif\u001b[0m \u001b[0mself\u001b[0m\u001b[0;34m.\u001b[0m\u001b[0m_sampler_iter\u001b[0m \u001b[0;32mis\u001b[0m \u001b[0;32mNone\u001b[0m\u001b[0;34m:\u001b[0m\u001b[0;34m\u001b[0m\u001b[0;34m\u001b[0m\u001b[0m\n\u001b[1;32m    520\u001b[0m                 \u001b[0mself\u001b[0m\u001b[0;34m.\u001b[0m\u001b[0m_reset\u001b[0m\u001b[0;34m(\u001b[0m\u001b[0;34m)\u001b[0m\u001b[0;34m\u001b[0m\u001b[0;34m\u001b[0m\u001b[0m\n\u001b[0;32m--> 521\u001b[0;31m             \u001b[0mdata\u001b[0m \u001b[0;34m=\u001b[0m \u001b[0mself\u001b[0m\u001b[0;34m.\u001b[0m\u001b[0m_next_data\u001b[0m\u001b[0;34m(\u001b[0m\u001b[0;34m)\u001b[0m\u001b[0;34m\u001b[0m\u001b[0;34m\u001b[0m\u001b[0m\n\u001b[0m\u001b[1;32m    522\u001b[0m             \u001b[0mself\u001b[0m\u001b[0;34m.\u001b[0m\u001b[0m_num_yielded\u001b[0m \u001b[0;34m+=\u001b[0m \u001b[0;36m1\u001b[0m\u001b[0;34m\u001b[0m\u001b[0;34m\u001b[0m\u001b[0m\n\u001b[1;32m    523\u001b[0m             \u001b[0;32mif\u001b[0m \u001b[0mself\u001b[0m\u001b[0;34m.\u001b[0m\u001b[0m_dataset_kind\u001b[0m \u001b[0;34m==\u001b[0m \u001b[0m_DatasetKind\u001b[0m\u001b[0;34m.\u001b[0m\u001b[0mIterable\u001b[0m \u001b[0;32mand\u001b[0m\u001b[0;31m \u001b[0m\u001b[0;31m\\\u001b[0m\u001b[0;34m\u001b[0m\u001b[0;34m\u001b[0m\u001b[0m\n",
      "\u001b[0;32m/usr/local/lib/python3.7/dist-packages/torch/utils/data/dataloader.py\u001b[0m in \u001b[0;36m_next_data\u001b[0;34m(self)\u001b[0m\n\u001b[1;32m    559\u001b[0m     \u001b[0;32mdef\u001b[0m \u001b[0m_next_data\u001b[0m\u001b[0;34m(\u001b[0m\u001b[0mself\u001b[0m\u001b[0;34m)\u001b[0m\u001b[0;34m:\u001b[0m\u001b[0;34m\u001b[0m\u001b[0;34m\u001b[0m\u001b[0m\n\u001b[1;32m    560\u001b[0m         \u001b[0mindex\u001b[0m \u001b[0;34m=\u001b[0m \u001b[0mself\u001b[0m\u001b[0;34m.\u001b[0m\u001b[0m_next_index\u001b[0m\u001b[0;34m(\u001b[0m\u001b[0;34m)\u001b[0m  \u001b[0;31m# may raise StopIteration\u001b[0m\u001b[0;34m\u001b[0m\u001b[0;34m\u001b[0m\u001b[0m\n\u001b[0;32m--> 561\u001b[0;31m         \u001b[0mdata\u001b[0m \u001b[0;34m=\u001b[0m \u001b[0mself\u001b[0m\u001b[0;34m.\u001b[0m\u001b[0m_dataset_fetcher\u001b[0m\u001b[0;34m.\u001b[0m\u001b[0mfetch\u001b[0m\u001b[0;34m(\u001b[0m\u001b[0mindex\u001b[0m\u001b[0;34m)\u001b[0m  \u001b[0;31m# may raise StopIteration\u001b[0m\u001b[0;34m\u001b[0m\u001b[0;34m\u001b[0m\u001b[0m\n\u001b[0m\u001b[1;32m    562\u001b[0m         \u001b[0;32mif\u001b[0m \u001b[0mself\u001b[0m\u001b[0;34m.\u001b[0m\u001b[0m_pin_memory\u001b[0m\u001b[0;34m:\u001b[0m\u001b[0;34m\u001b[0m\u001b[0;34m\u001b[0m\u001b[0m\n\u001b[1;32m    563\u001b[0m             \u001b[0mdata\u001b[0m \u001b[0;34m=\u001b[0m \u001b[0m_utils\u001b[0m\u001b[0;34m.\u001b[0m\u001b[0mpin_memory\u001b[0m\u001b[0;34m.\u001b[0m\u001b[0mpin_memory\u001b[0m\u001b[0;34m(\u001b[0m\u001b[0mdata\u001b[0m\u001b[0;34m)\u001b[0m\u001b[0;34m\u001b[0m\u001b[0;34m\u001b[0m\u001b[0m\n",
      "\u001b[0;32m/usr/local/lib/python3.7/dist-packages/torch/utils/data/_utils/fetch.py\u001b[0m in \u001b[0;36mfetch\u001b[0;34m(self, possibly_batched_index)\u001b[0m\n\u001b[1;32m     42\u001b[0m     \u001b[0;32mdef\u001b[0m \u001b[0mfetch\u001b[0m\u001b[0;34m(\u001b[0m\u001b[0mself\u001b[0m\u001b[0;34m,\u001b[0m \u001b[0mpossibly_batched_index\u001b[0m\u001b[0;34m)\u001b[0m\u001b[0;34m:\u001b[0m\u001b[0;34m\u001b[0m\u001b[0;34m\u001b[0m\u001b[0m\n\u001b[1;32m     43\u001b[0m         \u001b[0;32mif\u001b[0m \u001b[0mself\u001b[0m\u001b[0;34m.\u001b[0m\u001b[0mauto_collation\u001b[0m\u001b[0;34m:\u001b[0m\u001b[0;34m\u001b[0m\u001b[0;34m\u001b[0m\u001b[0m\n\u001b[0;32m---> 44\u001b[0;31m             \u001b[0mdata\u001b[0m \u001b[0;34m=\u001b[0m \u001b[0;34m[\u001b[0m\u001b[0mself\u001b[0m\u001b[0;34m.\u001b[0m\u001b[0mdataset\u001b[0m\u001b[0;34m[\u001b[0m\u001b[0midx\u001b[0m\u001b[0;34m]\u001b[0m \u001b[0;32mfor\u001b[0m \u001b[0midx\u001b[0m \u001b[0;32min\u001b[0m \u001b[0mpossibly_batched_index\u001b[0m\u001b[0;34m]\u001b[0m\u001b[0;34m\u001b[0m\u001b[0;34m\u001b[0m\u001b[0m\n\u001b[0m\u001b[1;32m     45\u001b[0m         \u001b[0;32melse\u001b[0m\u001b[0;34m:\u001b[0m\u001b[0;34m\u001b[0m\u001b[0;34m\u001b[0m\u001b[0m\n\u001b[1;32m     46\u001b[0m             \u001b[0mdata\u001b[0m \u001b[0;34m=\u001b[0m \u001b[0mself\u001b[0m\u001b[0;34m.\u001b[0m\u001b[0mdataset\u001b[0m\u001b[0;34m[\u001b[0m\u001b[0mpossibly_batched_index\u001b[0m\u001b[0;34m]\u001b[0m\u001b[0;34m\u001b[0m\u001b[0;34m\u001b[0m\u001b[0m\n",
      "\u001b[0;32m/usr/local/lib/python3.7/dist-packages/torch/utils/data/_utils/fetch.py\u001b[0m in \u001b[0;36m<listcomp>\u001b[0;34m(.0)\u001b[0m\n\u001b[1;32m     42\u001b[0m     \u001b[0;32mdef\u001b[0m \u001b[0mfetch\u001b[0m\u001b[0;34m(\u001b[0m\u001b[0mself\u001b[0m\u001b[0;34m,\u001b[0m \u001b[0mpossibly_batched_index\u001b[0m\u001b[0;34m)\u001b[0m\u001b[0;34m:\u001b[0m\u001b[0;34m\u001b[0m\u001b[0;34m\u001b[0m\u001b[0m\n\u001b[1;32m     43\u001b[0m         \u001b[0;32mif\u001b[0m \u001b[0mself\u001b[0m\u001b[0;34m.\u001b[0m\u001b[0mauto_collation\u001b[0m\u001b[0;34m:\u001b[0m\u001b[0;34m\u001b[0m\u001b[0;34m\u001b[0m\u001b[0m\n\u001b[0;32m---> 44\u001b[0;31m             \u001b[0mdata\u001b[0m \u001b[0;34m=\u001b[0m \u001b[0;34m[\u001b[0m\u001b[0mself\u001b[0m\u001b[0;34m.\u001b[0m\u001b[0mdataset\u001b[0m\u001b[0;34m[\u001b[0m\u001b[0midx\u001b[0m\u001b[0;34m]\u001b[0m \u001b[0;32mfor\u001b[0m \u001b[0midx\u001b[0m \u001b[0;32min\u001b[0m \u001b[0mpossibly_batched_index\u001b[0m\u001b[0;34m]\u001b[0m\u001b[0;34m\u001b[0m\u001b[0;34m\u001b[0m\u001b[0m\n\u001b[0m\u001b[1;32m     45\u001b[0m         \u001b[0;32melse\u001b[0m\u001b[0;34m:\u001b[0m\u001b[0;34m\u001b[0m\u001b[0;34m\u001b[0m\u001b[0m\n\u001b[1;32m     46\u001b[0m             \u001b[0mdata\u001b[0m \u001b[0;34m=\u001b[0m \u001b[0mself\u001b[0m\u001b[0;34m.\u001b[0m\u001b[0mdataset\u001b[0m\u001b[0;34m[\u001b[0m\u001b[0mpossibly_batched_index\u001b[0m\u001b[0;34m]\u001b[0m\u001b[0;34m\u001b[0m\u001b[0;34m\u001b[0m\u001b[0m\n",
      "\u001b[0;32m/usr/local/lib/python3.7/dist-packages/torch/utils/data/dataset.py\u001b[0m in \u001b[0;36m__getitem__\u001b[0;34m(self, idx)\u001b[0m\n\u001b[1;32m    309\u001b[0m \u001b[0;34m\u001b[0m\u001b[0m\n\u001b[1;32m    310\u001b[0m     \u001b[0;32mdef\u001b[0m \u001b[0m__getitem__\u001b[0m\u001b[0;34m(\u001b[0m\u001b[0mself\u001b[0m\u001b[0;34m,\u001b[0m \u001b[0midx\u001b[0m\u001b[0;34m)\u001b[0m\u001b[0;34m:\u001b[0m\u001b[0;34m\u001b[0m\u001b[0;34m\u001b[0m\u001b[0m\n\u001b[0;32m--> 311\u001b[0;31m         \u001b[0;32mreturn\u001b[0m \u001b[0mself\u001b[0m\u001b[0;34m.\u001b[0m\u001b[0mdataset\u001b[0m\u001b[0;34m[\u001b[0m\u001b[0mself\u001b[0m\u001b[0;34m.\u001b[0m\u001b[0mindices\u001b[0m\u001b[0;34m[\u001b[0m\u001b[0midx\u001b[0m\u001b[0;34m]\u001b[0m\u001b[0;34m]\u001b[0m\u001b[0;34m\u001b[0m\u001b[0;34m\u001b[0m\u001b[0m\n\u001b[0m\u001b[1;32m    312\u001b[0m \u001b[0;34m\u001b[0m\u001b[0m\n\u001b[1;32m    313\u001b[0m     \u001b[0;32mdef\u001b[0m \u001b[0m__len__\u001b[0m\u001b[0;34m(\u001b[0m\u001b[0mself\u001b[0m\u001b[0;34m)\u001b[0m\u001b[0;34m:\u001b[0m\u001b[0;34m\u001b[0m\u001b[0;34m\u001b[0m\u001b[0m\n",
      "\u001b[0;32m/usr/local/lib/python3.7/dist-packages/torchvision/datasets/mnist.py\u001b[0m in \u001b[0;36m__getitem__\u001b[0;34m(self, index)\u001b[0m\n\u001b[1;32m    129\u001b[0m         \u001b[0;31m# doing this so that it is consistent with all other datasets\u001b[0m\u001b[0;34m\u001b[0m\u001b[0;34m\u001b[0m\u001b[0;34m\u001b[0m\u001b[0m\n\u001b[1;32m    130\u001b[0m         \u001b[0;31m# to return a PIL Image\u001b[0m\u001b[0;34m\u001b[0m\u001b[0;34m\u001b[0m\u001b[0;34m\u001b[0m\u001b[0m\n\u001b[0;32m--> 131\u001b[0;31m         \u001b[0mimg\u001b[0m \u001b[0;34m=\u001b[0m \u001b[0mImage\u001b[0m\u001b[0;34m.\u001b[0m\u001b[0mfromarray\u001b[0m\u001b[0;34m(\u001b[0m\u001b[0mimg\u001b[0m\u001b[0;34m.\u001b[0m\u001b[0mnumpy\u001b[0m\u001b[0;34m(\u001b[0m\u001b[0;34m)\u001b[0m\u001b[0;34m,\u001b[0m \u001b[0mmode\u001b[0m\u001b[0;34m=\u001b[0m\u001b[0;34m'L'\u001b[0m\u001b[0;34m)\u001b[0m\u001b[0;34m\u001b[0m\u001b[0;34m\u001b[0m\u001b[0m\n\u001b[0m\u001b[1;32m    132\u001b[0m \u001b[0;34m\u001b[0m\u001b[0m\n\u001b[1;32m    133\u001b[0m         \u001b[0;32mif\u001b[0m \u001b[0mself\u001b[0m\u001b[0;34m.\u001b[0m\u001b[0mtransform\u001b[0m \u001b[0;32mis\u001b[0m \u001b[0;32mnot\u001b[0m \u001b[0;32mNone\u001b[0m\u001b[0;34m:\u001b[0m\u001b[0;34m\u001b[0m\u001b[0;34m\u001b[0m\u001b[0m\n",
      "\u001b[0;32m/usr/local/lib/python3.7/dist-packages/PIL/Image.py\u001b[0m in \u001b[0;36mfromarray\u001b[0;34m(obj, mode)\u001b[0m\n\u001b[1;32m   2717\u001b[0m     \u001b[0;32melse\u001b[0m\u001b[0;34m:\u001b[0m\u001b[0;34m\u001b[0m\u001b[0;34m\u001b[0m\u001b[0m\n\u001b[1;32m   2718\u001b[0m         \u001b[0mrawmode\u001b[0m \u001b[0;34m=\u001b[0m \u001b[0mmode\u001b[0m\u001b[0;34m\u001b[0m\u001b[0;34m\u001b[0m\u001b[0m\n\u001b[0;32m-> 2719\u001b[0;31m     \u001b[0;32mif\u001b[0m \u001b[0mmode\u001b[0m \u001b[0;32min\u001b[0m \u001b[0;34m[\u001b[0m\u001b[0;34m\"1\"\u001b[0m\u001b[0;34m,\u001b[0m \u001b[0;34m\"L\"\u001b[0m\u001b[0;34m,\u001b[0m \u001b[0;34m\"I\"\u001b[0m\u001b[0;34m,\u001b[0m \u001b[0;34m\"P\"\u001b[0m\u001b[0;34m,\u001b[0m \u001b[0;34m\"F\"\u001b[0m\u001b[0;34m]\u001b[0m\u001b[0;34m:\u001b[0m\u001b[0;34m\u001b[0m\u001b[0;34m\u001b[0m\u001b[0m\n\u001b[0m\u001b[1;32m   2720\u001b[0m         \u001b[0mndmax\u001b[0m \u001b[0;34m=\u001b[0m \u001b[0;36m2\u001b[0m\u001b[0;34m\u001b[0m\u001b[0;34m\u001b[0m\u001b[0m\n\u001b[1;32m   2721\u001b[0m     \u001b[0;32melif\u001b[0m \u001b[0mmode\u001b[0m \u001b[0;34m==\u001b[0m \u001b[0;34m\"RGB\"\u001b[0m\u001b[0;34m:\u001b[0m\u001b[0;34m\u001b[0m\u001b[0;34m\u001b[0m\u001b[0m\n",
      "\u001b[0;31mKeyboardInterrupt\u001b[0m: "
     ]
    }
   ],
   "source": [
    "\n",
    "emodel = nn.Sequential(nn.Linear(input_size, hidden_layer_1_size), \n",
    "                      nn.ReLU(),\n",
    "                      nn.Linear(hidden_layer_1_size, hidden_layer_2_size),\n",
    "                      nn.ReLU(),\n",
    "                      nn.Linear(hidden_layer_2_size, output_size),\n",
    "                      nn.LogSoftmax(dim=1))\n",
    "eoptimizer = optim.SGD(emodel.parameters(), lr=learning_rate)\n",
    "\n",
    "etrainingloss=np.zeros(epochs)\n",
    "etrainingaccuracy=np.zeros(epochs)\n",
    "evalidationloss=np.zeros(epochs)\n",
    "evalidationaccuracy=np.zeros(epochs)\n",
    "\n",
    "best_accuracy=0\n",
    "bestepoch=0\n",
    "for epoch in range(epochs):\n",
    "  ####################\n",
    "  ### Train Loop #####\n",
    "  ####################\n",
    "  \n",
    "  emodel.train()\n",
    "  etrain_loss=0\n",
    "  for data in train_set:\n",
    "    X,Y=data\n",
    "    X=X.view(-1,28*28)\n",
    "    eoptimizer.zero_grad()\n",
    "    eoutputs=emodel(X)\n",
    "    eloss=criterion(eoutputs,Y)\n",
    "    eloss.backward()\n",
    "    eoptimizer.step()\n",
    "    etrain_loss += eloss.item()\n",
    "  etrainingloss[epoch]=etrain_loss/len(train_set)\n",
    "\n",
    "  #########################\n",
    "  ### Validation Loop #####\n",
    "  #########################\n",
    "  emodel.eval()\n",
    "  evalid_loss = 0\n",
    "  for data in validation_set:\n",
    "    X,Y=data\n",
    "    X=X.view(-1,28*28)\n",
    "    eoutputs=emodel(X)\n",
    "    eloss = criterion(eoutputs,Y)\n",
    "    evalid_loss += eloss.item()\n",
    "  evalidationloss[epoch]=evalid_loss/len(validation_set)\n",
    "\n",
    "  #validation accuracy\n",
    "  ecorrect = 0\n",
    "  etotal = 0\n",
    "  for data in validation_set:\n",
    "    X, Y = data\n",
    "    X=X.view(-1,28*28)\n",
    "    eoutput = emodel(X)\n",
    "    _,epredicted=torch.max(eoutput.data, 1)\n",
    "    etotal += Y.size(0)\n",
    "    ecorrect += (epredicted == Y).sum()\n",
    "  eaccuracy = 100 * ecorrect / etotal\n",
    "  evalidationaccuracy[epoch]=eaccuracy.item()\n",
    "\n",
    "  # Training Accuracy\n",
    "  ecorrect = 0\n",
    "  etotal = 0\n",
    "  for data in train_set:\n",
    "    X, Y = data\n",
    "    X=X.view(-1,28*28)\n",
    "    eoutput = emodel(X)\n",
    "    _,epredicted=torch.max(eoutput.data, 1)\n",
    "    etotal += Y.size(0)\n",
    "    ecorrect += (epredicted == Y).sum()\n",
    "  etaccuracy = 100 * ecorrect / etotal\n",
    "  etrainingaccuracy[epoch]=etaccuracy.item()\n",
    "\n",
    "  if evalidationaccuracy[epoch] > best_accuracy:\n",
    "    best_accuracy = evalidationloss[epoch]\n",
    "    bestepoch=epoch\n",
    "    torch.save(emodel, 'best_model')\n",
    "\n",
    "print(\"Optimal number of Epoch for early stopping: \",bestepoch+1)\n",
    "emodel = torch.load('best_model')\n",
    "emodel.eval()\n"
   ]
  },
  {
   "cell_type": "code",
   "execution_count": 18,
   "metadata": {
    "colab": {
     "base_uri": "https://localhost:8080/",
     "height": 1000
    },
    "id": "8uIbPnbRm93W",
    "outputId": "a4c847d2-f564-439c-d599-58bf0ebf4adb"
   },
   "outputs": [
    {
     "data": {
      "text/plain": [
       "[<matplotlib.lines.Line2D at 0x7f58eeab8a50>]"
      ]
     },
     "execution_count": 18,
     "metadata": {},
     "output_type": "execute_result"
    },
    {
     "data": {
      "image/png": "[encoded data removed]",
      "text/plain": [
       "<Figure size 432x288 with 1 Axes>"
      ]
     },
     "metadata": {
      "needs_background": "light"
     },
     "output_type": "display_data"
    },
    {
     "data": {
      "image/png": "[encoded data removed]",
      "text/plain": [
       "<Figure size 432x288 with 1 Axes>"
      ]
     },
     "metadata": {
      "needs_background": "light"
     },
     "output_type": "display_data"
    },
    {
     "data": {
      "image/png": "[encoded data removed]",
      "text/plain": [
       "<Figure size 432x288 with 1 Axes>"
      ]
     },
     "metadata": {
      "needs_background": "light"
     },
     "output_type": "display_data"
    },
    {
     "data": {
      "image/png": "[encoded data removed]",
      "text/plain": [
       "<Figure size 432x288 with 1 Axes>"
      ]
     },
     "metadata": {
      "needs_background": "light"
     },
     "output_type": "display_data"
    }
   ],
   "source": [
    "x_axis = np.arange(start=1, stop=epochs+1, step=1)\n",
    "# Ploting the error and classification accuracy on both training and validation data over the epochs\n",
    "import matplotlib.pyplot as plt\n",
    "plt.figure()\n",
    "plt.title(\" Training Error  Vs Number of Epochs\")\n",
    "plt.ylabel(\"Training Error\")\n",
    "plt.xlabel(\"Number of Epochs\")\n",
    "plt.plot(x_axis[:bestepoch],etrainingloss[:bestepoch])\n",
    "\n",
    "plt.figure()\n",
    "plt.title(\" Training Accuracy  Vs Number of Epochs\")\n",
    "plt.ylabel(\"Training Accuracy\")\n",
    "plt.xlabel(\"Number of Epochs\")\n",
    "plt.plot(x_axis[:bestepoch],etrainingaccuracy[:bestepoch])\n",
    "\n",
    "plt.figure()\n",
    "plt.title(\" Validation Error  Vs Number of Epochs\")\n",
    "plt.ylabel(\"Validation Error\")\n",
    "plt.xlabel(\"Number of Epochs\")\n",
    "plt.plot(x_axis[:bestepoch],evalidationloss[:bestepoch])\n",
    "\n",
    "plt.figure()\n",
    "plt.title(\" Validation Accuracy  Vs Number of Epochs\")\n",
    "plt.ylabel(\"Validation Accuracy\")\n",
    "plt.xlabel(\"Number of Epochs\")\n",
    "plt.plot(x_axis[:bestepoch],evalidationaccuracy[:bestepoch])\n"
   ]
  },
  {
   "cell_type": "code",
   "execution_count": 22,
   "metadata": {
    "colab": {
     "base_uri": "https://localhost:8080/"
    },
    "id": "pgwdwU4FqZj9",
    "outputId": "5c0d7cd9-222b-469a-95d1-adcbd481b5a3"
   },
   "outputs": [
    {
     "name": "stdout",
     "output_type": "stream",
     "text": [
      "Training Accuracy:  99.3723231\n",
      "Testing Accuracy:  98.06212344\n"
     ]
    }
   ],
   "source": [
    "# Training Accuracy\n",
    "ecorrect = 0\n",
    "etotal = 0\n",
    "with torch.no_grad():\n",
    "  for data in train_set:\n",
    "    X, Y = data\n",
    "    X=X.view(-1,28*28)\n",
    "    eoutput = emodel(X)\n",
    "    _,epredicted=torch.max(eoutput.data, 1)\n",
    "    etotal += Y.size(0)\n",
    "    ecorrect += (epredicted == Y).sum()\n",
    "etraining_accuracy = 100 * ecorrect / etotal\n",
    "\n",
    "\n",
    "# Testing Accuracy\n",
    "ecorrect = 0\n",
    "etotal = 0\n",
    "with torch.no_grad():\n",
    "  for data in test_set:\n",
    "    X, Y = data\n",
    "    X=X.view(-1,28*28)\n",
    "    eoutput = emodel(X)\n",
    "    _,epredicted=torch.max(eoutput.data, 1)\n",
    "    etotal += Y.size(0)\n",
    "    ecorrect += (epredicted == Y).sum()\n",
    "\n",
    "etesting_accuracy = 100 * ecorrect / etotal\n",
    "\n",
    "print(\"Training Accuracy: \",etraining_accuracy.item())\n",
    "print(\"Testing Accuracy: \",etesting_accuracy.item())"
   ]
  },
  {
   "cell_type": "code",
   "execution_count": 19,
   "metadata": {
    "id": "q7k_cEeOEoN8"
   },
   "outputs": [],
   "source": []
  }
 ],
 "metadata": {
  "accelerator": "GPU",
  "colab": {
   "collapsed_sections": [],
   "name": "Copy1 of A2_problem1.ipynb",
   "provenance": []
  },
  "kernelspec": {
   "display_name": "Python 3",
   "language": "python",
   "name": "python3"
  },
  "language_info": {
   "codemirror_mode": {
    "name": "ipython",
    "version": 3
   },
   "file_extension": ".py",
   "mimetype": "text/x-python",
   "name": "python",
   "nbconvert_exporter": "python",
   "pygments_lexer": "ipython3",
   "version": "3.8.8"
  }
 },
 "nbformat": 4,
 "nbformat_minor": 1
}
