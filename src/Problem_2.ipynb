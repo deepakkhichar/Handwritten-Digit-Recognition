{
  "nbformat": 4,
  "nbformat_minor": 0,
  "metadata": {
    "accelerator": "TPU",
    "colab": {
      "name": "cifar.ipynb",
      "provenance": [],
      "collapsed_sections": []
    },
    "kernelspec": {
      "display_name": "Python 3",
      "name": "python3"
    },
    "language_info": {
      "name": "python"
    }
  },
  "cells": [
    {
      "cell_type": "code",
      "metadata": {
        "id": "HFP8ePwiDXUA"
      },
      "source": [
        "import tensorflow as tf\n",
        "from tensorflow.keras import  datasets , layers , models\n",
        "import matplotlib.pyplot as plt\n",
        "import numpy as np\n"
      ],
      "execution_count": null,
      "outputs": []
    },
    {
      "cell_type": "markdown",
      "metadata": {
        "id": "trR8kHZJn1Kd"
      },
      "source": [
        "**Downloading  Dataset.**"
      ]
    },
    {
      "cell_type": "code",
      "metadata": {
        "colab": {
          "base_uri": "https://localhost:8080/"
        },
        "id": "25UHXuUiGLFa",
        "outputId": "e6f4f583-b087-42aa-fc18-0ea587879fdb"
      },
      "source": [
        "(X_train , y_train), (X_test, y_test) = datasets.cifar10.load_data()\n",
        "X_train.shape\n"
      ],
      "execution_count": null,
      "outputs": [
        {
          "name": "stdout",
          "output_type": "stream",
          "text": [
            "Downloading data from https://www.cs.toronto.edu/~kriz/cifar-10-python.tar.gz\n",
            "170500096/170498071 [==============================] - 2s 0us/step\n",
            "170508288/170498071 [==============================] - 2s 0us/step\n"
          ]
        },
        {
          "data": {
            "text/plain": [
              "(50000, 32, 32, 3)"
            ]
          },
          "execution_count": 2,
          "metadata": {},
          "output_type": "execute_result"
        }
      ]
    },
    {
      "cell_type": "code",
      "metadata": {
        "colab": {
          "base_uri": "https://localhost:8080/"
        },
        "id": "lbBcbiB2HgVL",
        "outputId": "17e47898-a6bc-4a22-bfe6-56a89e5aaa06"
      },
      "source": [
        "print('Training Images: {}'.format(X_train.shape))\n",
        "print('Testing Images: {}'.format(X_train.shape))\n"
      ],
      "execution_count": null,
      "outputs": [
        {
          "name": "stdout",
          "output_type": "stream",
          "text": [
            "Training Images: (50000, 32, 32, 3)\n",
            "Testing Images: (50000, 32, 32, 3)\n"
          ]
        }
      ]
    },
    {
      "cell_type": "code",
      "metadata": {
        "colab": {
          "base_uri": "https://localhost:8080/"
        },
        "id": "aX5hXo2ES7GT",
        "outputId": "baa4874b-9f4f-43f8-dc17-7447a4ae7f45"
      },
      "source": [
        "print(X_train[0].shape)"
      ],
      "execution_count": null,
      "outputs": [
        {
          "name": "stdout",
          "output_type": "stream",
          "text": [
            "(32, 32, 3)\n"
          ]
        }
      ]
    },
    {
      "cell_type": "code",
      "metadata": {
        "colab": {
          "base_uri": "https://localhost:8080/"
        },
        "id": "_Uag5AzULSa6",
        "outputId": "7b8e7bcf-129a-471e-cef9-6ea0ac5eb9a0"
      },
      "source": [
        "y_train = y_train.reshape(-1,)\n",
        "y_train[:5]"
      ],
      "execution_count": null,
      "outputs": [
        {
          "data": {
            "text/plain": [
              "array([6, 9, 9, 4, 1], dtype=uint8)"
            ]
          },
          "execution_count": 5,
          "metadata": {},
          "output_type": "execute_result"
        }
      ]
    },
    {
      "cell_type": "markdown",
      "metadata": {
        "id": "QM8A94jZoA8T"
      },
      "source": [
        "**Declaration of Classes**"
      ]
    },
    {
      "cell_type": "code",
      "metadata": {
        "id": "L-lxbc30J2k9"
      },
      "source": [
        "classes = [\"airplane\",\"automobile\",\"bird\",\"cat\",\"deer\",\"dog\",\"frog\",\"horse\",\"ship\",\"truck\"]"
      ],
      "execution_count": null,
      "outputs": []
    },
    {
      "cell_type": "markdown",
      "metadata": {
        "id": "ebqytfHEoZox"
      },
      "source": [
        "**Normalizing the dataset**"
      ]
    },
    {
      "cell_type": "code",
      "metadata": {
        "id": "GggAQRiWUrjT"
      },
      "source": [
        "seed = 6\n",
        "np.random.seed(seed)\n",
        "\n",
        "\n",
        "X_train = X_train.astype('float32')\n",
        "X_test = X_test.astype('float32')"
      ],
      "execution_count": null,
      "outputs": []
    },
    {
      "cell_type": "code",
      "metadata": {
        "id": "sETx7VhSPCpi"
      },
      "source": [
        "X_train = X_train / 255\n",
        "X_test = X_test / 255"
      ],
      "execution_count": null,
      "outputs": []
    },
    {
      "cell_type": "markdown",
      "metadata": {
        "id": "IdyP7e52ospV"
      },
      "source": [
        "**Validating Normalised dataset**"
      ]
    },
    {
      "cell_type": "code",
      "metadata": {
        "id": "1w0jE40GWIDR"
      },
      "source": [
        "print(X_train[0])"
      ],
      "execution_count": null,
      "outputs": []
    },
    {
      "cell_type": "markdown",
      "metadata": {
        "id": "n7nqhCRro9J-"
      },
      "source": [
        "**Model building**"
      ]
    },
    {
      "cell_type": "code",
      "metadata": {
        "id": "GJ9OSnEdarq3"
      },
      "source": [
        "import tensorflow as tf\n",
        "\n",
        "from tensorflow.keras import Sequential\n",
        "from tensorflow.keras.layers import Flatten, Dense, Conv2D , MaxPool2D , Dropout"
      ],
      "execution_count": null,
      "outputs": []
    },
    {
      "cell_type": "markdown",
      "metadata": {
        "id": "AqcUmaYMpbDi"
      },
      "source": [
        "**Initial Model**"
      ]
    },
    {
      "cell_type": "code",
      "metadata": {
        "id": "P1k8x15Pf2pe"
      },
      "source": [
        "model = Sequential()\n",
        "model.add(Conv2D(filters=32, kernel_size=(3,3), padding='same',activation = 'relu', input_shape=[32,32,3]))\n",
        "\n",
        "\n",
        "model.add(Conv2D(filters=64, kernel_size=(3,3), padding='same',activation = 'relu'))\n",
        "model.add(MaxPool2D(pool_size=(2,2),padding = 'valid'))\n",
        "model.add(Dropout(0.5))\n",
        "\n",
        "model.add(Conv2D(filters=128, kernel_size=(5,5), padding='same',activation = 'relu'))\n",
        "model.add(MaxPool2D(pool_size=(4,4),padding = 'valid'))\n",
        "model.add(Dropout(0.5))\n",
        "\n",
        "\n",
        "model.add(Flatten())\n",
        "model.add(Dense(units = 128, activation ='relu'))\n",
        "model.add(Dense(units=10, activation = 'softmax'))"
      ],
      "execution_count": null,
      "outputs": []
    },
    {
      "cell_type": "code",
      "metadata": {
        "colab": {
          "base_uri": "https://localhost:8080/"
        },
        "id": "qDUvmHzYgI7Q",
        "outputId": "cceded8a-3dc7-49d9-b26b-042a4c1fe2cb"
      },
      "source": [
        "model.summary()"
      ],
      "execution_count": null,
      "outputs": [
        {
          "name": "stdout",
          "output_type": "stream",
          "text": [
            "Model: \"sequential\"\n",
            "_________________________________________________________________\n",
            "Layer (type)                 Output Shape              Param #   \n",
            "=================================================================\n",
            "conv2d (Conv2D)              (None, 32, 32, 32)        896       \n",
            "_________________________________________________________________\n",
            "conv2d_1 (Conv2D)            (None, 32, 32, 64)        18496     \n",
            "_________________________________________________________________\n",
            "max_pooling2d (MaxPooling2D) (None, 16, 16, 64)        0         \n",
            "_________________________________________________________________\n",
            "dropout (Dropout)            (None, 16, 16, 64)        0         \n",
            "_________________________________________________________________\n",
            "conv2d_2 (Conv2D)            (None, 16, 16, 128)       204928    \n",
            "_________________________________________________________________\n",
            "max_pooling2d_1 (MaxPooling2 (None, 4, 4, 128)         0         \n",
            "_________________________________________________________________\n",
            "dropout_1 (Dropout)          (None, 4, 4, 128)         0         \n",
            "_________________________________________________________________\n",
            "flatten (Flatten)            (None, 2048)              0         \n",
            "_________________________________________________________________\n",
            "dense (Dense)                (None, 128)               262272    \n",
            "_________________________________________________________________\n",
            "dense_1 (Dense)              (None, 10)                1290      \n",
            "=================================================================\n",
            "Total params: 487,882\n",
            "Trainable params: 487,882\n",
            "Non-trainable params: 0\n",
            "_________________________________________________________________\n"
          ]
        }
      ]
    },
    {
      "cell_type": "markdown",
      "metadata": {
        "id": "LhWqi5yapiZa"
      },
      "source": [
        "**Comparing Training accuracy with Validation Accuracy**"
      ]
    },
    {
      "cell_type": "code",
      "metadata": {
        "id": "eoAtepgEjdD8"
      },
      "source": [
        "model.compile(optimizer='adam', loss = 'sparse_categorical_crossentropy', metrics= ['sparse_categorical_accuracy'])"
      ],
      "execution_count": null,
      "outputs": []
    },
    {
      "cell_type": "code",
      "metadata": {
        "colab": {
          "base_uri": "https://localhost:8080/"
        },
        "id": "buVqUuJFj4wv",
        "outputId": "c63ac7c0-9ae3-444d-d8a7-f3bc9906dce2"
      },
      "source": [
        "history = model.fit(X_train, y_train, batch_size=10, epochs=10, verbose=1, validation_data=(X_test, y_test))"
      ],
      "execution_count": null,
      "outputs": [
        {
          "name": "stdout",
          "output_type": "stream",
          "text": [
            "Epoch 1/10\n",
            "5000/5000 [==============================] - 83s 11ms/step - loss: 1.4465 - sparse_categorical_accuracy: 0.4749 - val_loss: 1.1589 - val_sparse_categorical_accuracy: 0.6026\n",
            "Epoch 2/10\n",
            "5000/5000 [==============================] - 49s 10ms/step - loss: 1.1142 - sparse_categorical_accuracy: 0.6044 - val_loss: 0.9612 - val_sparse_categorical_accuracy: 0.6827\n",
            "Epoch 3/10\n",
            "5000/5000 [==============================] - 52s 10ms/step - loss: 1.0127 - sparse_categorical_accuracy: 0.6416 - val_loss: 0.9351 - val_sparse_categorical_accuracy: 0.7008\n",
            "Epoch 4/10\n",
            "5000/5000 [==============================] - 57s 11ms/step - loss: 0.9485 - sparse_categorical_accuracy: 0.6659 - val_loss: 0.8944 - val_sparse_categorical_accuracy: 0.7097\n",
            "Epoch 5/10\n",
            "5000/5000 [==============================] - 53s 11ms/step - loss: 0.9172 - sparse_categorical_accuracy: 0.6773 - val_loss: 0.8238 - val_sparse_categorical_accuracy: 0.7189\n",
            "Epoch 6/10\n",
            "5000/5000 [==============================] - 55s 11ms/step - loss: 0.8876 - sparse_categorical_accuracy: 0.6876 - val_loss: 0.7732 - val_sparse_categorical_accuracy: 0.7359\n",
            "Epoch 7/10\n",
            "5000/5000 [==============================] - 56s 11ms/step - loss: 0.8608 - sparse_categorical_accuracy: 0.7003 - val_loss: 0.7837 - val_sparse_categorical_accuracy: 0.7327\n",
            "Epoch 8/10\n",
            "5000/5000 [==============================] - 53s 11ms/step - loss: 0.8430 - sparse_categorical_accuracy: 0.7041 - val_loss: 0.7830 - val_sparse_categorical_accuracy: 0.7301\n",
            "Epoch 9/10\n",
            "5000/5000 [==============================] - 49s 10ms/step - loss: 0.8298 - sparse_categorical_accuracy: 0.7071 - val_loss: 0.7242 - val_sparse_categorical_accuracy: 0.7543\n",
            "Epoch 10/10\n",
            "5000/5000 [==============================] - 52s 10ms/step - loss: 0.8132 - sparse_categorical_accuracy: 0.7151 - val_loss: 0.7893 - val_sparse_categorical_accuracy: 0.7325\n"
          ]
        }
      ]
    },
    {
      "cell_type": "markdown",
      "metadata": {
        "id": "r2fxHH8Vpq50"
      },
      "source": [
        "**Graphical representation**"
      ]
    },
    {
      "cell_type": "code",
      "metadata": {
        "colab": {
          "base_uri": "https://localhost:8080/",
          "height": 573
        },
        "id": "HhodHaammAln",
        "outputId": "e9b605e2-5e5b-49c6-aea7-e85f62528b64"
      },
      "source": [
        "epoch_range = range(1, 11)\n",
        "plt.plot(epoch_range, history.history['sparse_categorical_accuracy'])\n",
        "plt.plot(epoch_range, history.history['val_sparse_categorical_accuracy'])\n",
        "plt.title('Model accuracy')\n",
        "plt.ylabel('Accuracy')\n",
        "plt.xlabel('Epoch')\n",
        "plt.legend(['Train','Val'], loc='upper left')\n",
        "plt.show()\n",
        "\n",
        "plt.plot(epoch_range, history.history['loss'])\n",
        "plt.plot(epoch_range, history.history['val_loss'])\n",
        "plt.title('Model loss')\n",
        "plt.ylabel('loss')\n",
        "plt.xlabel('Epoch')\n",
        "plt.legend(['Train','val'], loc='upper left')\n",
        "plt.show()"
      ],
      "execution_count": null,
      "outputs": [
        {
          "data": {
            "image/png": "[encoded data removed]",
            "text/plain": [
              "<Figure size 432x288 with 1 Axes>"
            ]
          },
          "metadata": {},
          "output_type": "display_data"
        },
        {
          "data": {
            "image/png": "[encoded data removed]",
            "text/plain": [
              "<Figure size 432x288 with 1 Axes>"
            ]
          },
          "metadata": {},
          "output_type": "display_data"
        }
      ]
    },
    {
      "cell_type": "markdown",
      "metadata": {
        "id": "kh_26kI4pyTY"
      },
      "source": [
        "**Final Model**"
      ]
    },
    {
      "cell_type": "code",
      "metadata": {
        "id": "zHUJkUKdhByB"
      },
      "source": [
        "model = Sequential()\n",
        "model.add(Conv2D(filters=32, kernel_size=(3,3), padding='same',activation = 'relu', input_shape=[32,32,3]))\n",
        "\n",
        "\n",
        "model.add(Conv2D(filters=64, kernel_size=(3,3), padding='same',activation = 'relu'))\n",
        "model.add(MaxPool2D(pool_size=(2,2),strides=(2,2),padding = 'valid'))\n",
        "\n",
        "\n",
        "model.add(Conv2D(filters=128, kernel_size=(5,5), padding='same',activation = 'relu'))\n",
        "model.add(MaxPool2D(pool_size=(4,4),strides=(2,2),padding = 'valid'))\n",
        "\n",
        "\n",
        "model.add(Conv2D(filters=128, kernel_size=(5,5), padding='same',activation = 'relu'))\n",
        "model.add(MaxPool2D(pool_size=(2,2),strides=(2,2),padding = 'valid'))\n",
        "\n",
        "\n",
        "model.add(Dropout(0.2))\n",
        "\n",
        "\n",
        "model.add(Flatten())\n",
        "model.add(Dense(units = 128, activation ='relu'))\n",
        "model.add(Dense(units=10, activation = 'softmax'))"
      ],
      "execution_count": null,
      "outputs": []
    },
    {
      "cell_type": "code",
      "metadata": {
        "colab": {
          "base_uri": "https://localhost:8080/"
        },
        "id": "lDU0hZ3phDsu",
        "outputId": "33dd65fa-0ce2-4634-a717-d940d7506723"
      },
      "source": [
        "model.summary()\n"
      ],
      "execution_count": null,
      "outputs": [
        {
          "name": "stdout",
          "output_type": "stream",
          "text": [
            "Model: \"sequential_1\"\n",
            "_________________________________________________________________\n",
            "Layer (type)                 Output Shape              Param #   \n",
            "=================================================================\n",
            "conv2d_3 (Conv2D)            (None, 32, 32, 32)        896       \n",
            "_________________________________________________________________\n",
            "conv2d_4 (Conv2D)            (None, 32, 32, 64)        18496     \n",
            "_________________________________________________________________\n",
            "max_pooling2d_2 (MaxPooling2 (None, 16, 16, 64)        0         \n",
            "_________________________________________________________________\n",
            "conv2d_5 (Conv2D)            (None, 16, 16, 128)       204928    \n",
            "_________________________________________________________________\n",
            "max_pooling2d_3 (MaxPooling2 (None, 7, 7, 128)         0         \n",
            "_________________________________________________________________\n",
            "conv2d_6 (Conv2D)            (None, 7, 7, 128)         409728    \n",
            "_________________________________________________________________\n",
            "max_pooling2d_4 (MaxPooling2 (None, 3, 3, 128)         0         \n",
            "_________________________________________________________________\n",
            "dropout_2 (Dropout)          (None, 3, 3, 128)         0         \n",
            "_________________________________________________________________\n",
            "flatten_1 (Flatten)          (None, 1152)              0         \n",
            "_________________________________________________________________\n",
            "dense_2 (Dense)              (None, 128)               147584    \n",
            "_________________________________________________________________\n",
            "dense_3 (Dense)              (None, 10)                1290      \n",
            "=================================================================\n",
            "Total params: 782,922\n",
            "Trainable params: 782,922\n",
            "Non-trainable params: 0\n",
            "_________________________________________________________________\n"
          ]
        }
      ]
    },
    {
      "cell_type": "code",
      "metadata": {
        "colab": {
          "background_save": true
        },
        "id": "JV-gPENwiVtd"
      },
      "source": [
        "model.compile(optimizer='adam', loss = 'sparse_categorical_crossentropy', metrics= ['sparse_categorical_accuracy'])"
      ],
      "execution_count": null,
      "outputs": []
    },
    {
      "cell_type": "markdown",
      "metadata": {
        "id": "PG7e8PiUp7l7"
      },
      "source": [
        "**Testing Accuracy of the model**"
      ]
    },
    {
      "cell_type": "code",
      "metadata": {
        "colab": {
          "background_save": true,
          "base_uri": "https://localhost:8080/"
        },
        "id": "-ARiH5HwicIn",
        "outputId": "0c8f1283-745e-4caf-bf33-22144eb60e13"
      },
      "source": [
        "history = model.fit(X_train, y_train, batch_size=10, epochs=15, verbose=1, validation_data=(X_test, y_test))"
      ],
      "execution_count": null,
      "outputs": [
        {
          "name": "stdout",
          "output_type": "stream",
          "text": [
            "Epoch 1/15\n",
            "5000/5000 [==============================] - 716s 143ms/step - loss: 1.4431 - sparse_categorical_accuracy: 0.4719 - val_loss: 1.0986 - val_sparse_categorical_accuracy: 0.6155\n",
            "Epoch 2/15\n",
            "5000/5000 [==============================] - 704s 141ms/step - loss: 0.9931 - sparse_categorical_accuracy: 0.6496 - val_loss: 0.9325 - val_sparse_categorical_accuracy: 0.6823\n",
            "Epoch 3/15\n",
            "5000/5000 [==============================] - 700s 140ms/step - loss: 0.8423 - sparse_categorical_accuracy: 0.7055 - val_loss: 0.8116 - val_sparse_categorical_accuracy: 0.7215\n",
            "Epoch 4/15\n",
            "5000/5000 [==============================] - 701s 140ms/step - loss: 0.7572 - sparse_categorical_accuracy: 0.7365 - val_loss: 0.8062 - val_sparse_categorical_accuracy: 0.7254\n",
            "Epoch 5/15\n",
            "5000/5000 [==============================] - 702s 140ms/step - loss: 0.6910 - sparse_categorical_accuracy: 0.7583 - val_loss: 0.8241 - val_sparse_categorical_accuracy: 0.7313\n",
            "Epoch 6/15\n",
            " 587/5000 [==>...........................] - ETA: 9:46 - loss: 0.6286 - sparse_categorical_accuracy: 0.7852"
          ]
        }
      ]
    },
    {
      "cell_type": "markdown",
      "metadata": {
        "id": "IM5Sc8ayqD9z"
      },
      "source": [
        "**Graphical Representation**"
      ]
    },
    {
      "cell_type": "code",
      "metadata": {
        "colab": {
          "base_uri": "https://localhost:8080/",
          "height": 573
        },
        "id": "pp5hqAVbhNUl",
        "outputId": "9ce17201-9aaf-409f-bea1-8ac7cfec7ece"
      },
      "source": [
        "epoch_range = range(1, 11)\n",
        "plt.plot(epoch_range, history.history['sparse_categorical_accuracy'])\n",
        "plt.plot(epoch_range, history.history['val_sparse_categorical_accuracy'])\n",
        "plt.title('Model accuracy')\n",
        "plt.ylabel('Accuracy')\n",
        "plt.xlabel('Epoch')\n",
        "plt.legend(['Train','Val'], loc='upper left')\n",
        "plt.show()\n",
        "\n",
        "plt.plot(epoch_range, history.history['loss'])\n",
        "plt.plot(epoch_range, history.history['val_loss'])\n",
        "plt.title('Model loss')\n",
        "plt.ylabel('loss')\n",
        "plt.xlabel('Epoch')\n",
        "plt.legend(['Train','val'], loc='upper left')\n",
        "plt.show()"
      ],
      "execution_count": null,
      "outputs": [
        {
          "data": {
            "image/png": "[encoded data removed]",
            "text/plain": [
              "<Figure size 432x288 with 1 Axes>"
            ]
          },
          "metadata": {},
          "output_type": "display_data"
        },
        {
          "data": {
            "image/png": "[encoded data removed]",
            "text/plain": [
              "<Figure size 432x288 with 1 Axes>"
            ]
          },
          "metadata": {},
          "output_type": "display_data"
        }
      ]
    }
  ]
}